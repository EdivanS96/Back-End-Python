{
  "nbformat": 4,
  "nbformat_minor": 0,
  "metadata": {
    "colab": {
      "provenance": [],
      "include_colab_link": true
    },
    "kernelspec": {
      "name": "python3",
      "display_name": "Python 3"
    },
    "language_info": {
      "name": "python"
    },
    "widgets": {
      "application/vnd.jupyter.widget-state+json": {
        "0742671403f147049649dcb8c9b1e01d": {
          "model_module": "@jupyter-widgets/controls",
          "model_name": "VBoxModel",
          "model_module_version": "1.5.0",
          "state": {
            "_dom_classes": [],
            "_model_module": "@jupyter-widgets/controls",
            "_model_module_version": "1.5.0",
            "_model_name": "VBoxModel",
            "_view_count": null,
            "_view_module": "@jupyter-widgets/controls",
            "_view_module_version": "1.5.0",
            "_view_name": "VBoxView",
            "box_style": "",
            "children": [
              "IPY_MODEL_439f867dec17458787c722c801d20042",
              "IPY_MODEL_e60b579b57204d709c8cd388a72cc5fd"
            ],
            "layout": "IPY_MODEL_d40c77d2e95648ecaec2651a26d771fd"
          }
        },
        "439f867dec17458787c722c801d20042": {
          "model_module": "@jupyter-widgets/controls",
          "model_name": "HBoxModel",
          "model_module_version": "1.5.0",
          "state": {
            "_dom_classes": [],
            "_model_module": "@jupyter-widgets/controls",
            "_model_module_version": "1.5.0",
            "_model_name": "HBoxModel",
            "_view_count": null,
            "_view_module": "@jupyter-widgets/controls",
            "_view_module_version": "1.5.0",
            "_view_name": "HBoxView",
            "box_style": "",
            "children": [
              "IPY_MODEL_eb76f7f0b27f49cc83fc7b02c74946c6",
              "IPY_MODEL_b7ca295057f747d188045889ea180b25",
              "IPY_MODEL_87239b7366494112a0f5026cc57283fd"
            ],
            "layout": "IPY_MODEL_f4fb48cfd4844b5199491728e07f1a5b"
          }
        },
        "e60b579b57204d709c8cd388a72cc5fd": {
          "model_module": "@jupyter-widgets/controls",
          "model_name": "HBoxModel",
          "model_module_version": "1.5.0",
          "state": {
            "_dom_classes": [],
            "_model_module": "@jupyter-widgets/controls",
            "_model_module_version": "1.5.0",
            "_model_name": "HBoxModel",
            "_view_count": null,
            "_view_module": "@jupyter-widgets/controls",
            "_view_module_version": "1.5.0",
            "_view_name": "HBoxView",
            "box_style": "",
            "children": [
              "IPY_MODEL_72fc5372083a4d1da0d53cb4cc29163d",
              "IPY_MODEL_b130768845f847c6ba6057e2a9de02b1"
            ],
            "layout": "IPY_MODEL_24a9b7eca0184f409a8b0ed182360372"
          }
        },
        "d40c77d2e95648ecaec2651a26d771fd": {
          "model_module": "@jupyter-widgets/base",
          "model_name": "LayoutModel",
          "model_module_version": "1.2.0",
          "state": {
            "_model_module": "@jupyter-widgets/base",
            "_model_module_version": "1.2.0",
            "_model_name": "LayoutModel",
            "_view_count": null,
            "_view_module": "@jupyter-widgets/base",
            "_view_module_version": "1.2.0",
            "_view_name": "LayoutView",
            "align_content": null,
            "align_items": null,
            "align_self": null,
            "border": null,
            "bottom": null,
            "display": null,
            "flex": null,
            "flex_flow": null,
            "grid_area": null,
            "grid_auto_columns": null,
            "grid_auto_flow": null,
            "grid_auto_rows": null,
            "grid_column": null,
            "grid_gap": null,
            "grid_row": null,
            "grid_template_areas": null,
            "grid_template_columns": null,
            "grid_template_rows": null,
            "height": null,
            "justify_content": null,
            "justify_items": null,
            "left": null,
            "margin": null,
            "max_height": null,
            "max_width": null,
            "min_height": null,
            "min_width": null,
            "object_fit": null,
            "object_position": null,
            "order": null,
            "overflow": null,
            "overflow_x": null,
            "overflow_y": null,
            "padding": null,
            "right": null,
            "top": null,
            "visibility": null,
            "width": null
          }
        },
        "eb76f7f0b27f49cc83fc7b02c74946c6": {
          "model_module": "@jupyter-widgets/controls",
          "model_name": "FloatSliderModel",
          "model_module_version": "1.5.0",
          "state": {
            "_dom_classes": [],
            "_model_module": "@jupyter-widgets/controls",
            "_model_module_version": "1.5.0",
            "_model_name": "FloatSliderModel",
            "_view_count": null,
            "_view_module": "@jupyter-widgets/controls",
            "_view_module_version": "1.5.0",
            "_view_name": "FloatSliderView",
            "continuous_update": true,
            "description": "Largura a (mm)",
            "description_tooltip": null,
            "disabled": false,
            "layout": "IPY_MODEL_d2d89098f0b1492989dec155bc93059a",
            "max": 0.05,
            "min": 0.001,
            "orientation": "horizontal",
            "readout": true,
            "readout_format": ".2f",
            "step": 0.001,
            "style": "IPY_MODEL_00654199231b43e19a68863aa1d21a7b",
            "value": 0.01
          }
        },
        "b7ca295057f747d188045889ea180b25": {
          "model_module": "@jupyter-widgets/controls",
          "model_name": "FloatSliderModel",
          "model_module_version": "1.5.0",
          "state": {
            "_dom_classes": [],
            "_model_module": "@jupyter-widgets/controls",
            "_model_module_version": "1.5.0",
            "_model_name": "FloatSliderModel",
            "_view_count": null,
            "_view_module": "@jupyter-widgets/controls",
            "_view_module_version": "1.5.0",
            "_view_name": "FloatSliderView",
            "continuous_update": true,
            "description": "Distância d (mm)",
            "description_tooltip": null,
            "disabled": false,
            "layout": "IPY_MODEL_6085cd40be5a41188b0b3a49ce64a2c8",
            "max": 0.05,
            "min": 0.001,
            "orientation": "horizontal",
            "readout": true,
            "readout_format": ".2f",
            "step": 0.001,
            "style": "IPY_MODEL_e99a15627db74f17a2499f17b29d19a9",
            "value": 0.01
          }
        },
        "87239b7366494112a0f5026cc57283fd": {
          "model_module": "@jupyter-widgets/controls",
          "model_name": "FloatSliderModel",
          "model_module_version": "1.5.0",
          "state": {
            "_dom_classes": [],
            "_model_module": "@jupyter-widgets/controls",
            "_model_module_version": "1.5.0",
            "_model_name": "FloatSliderModel",
            "_view_count": null,
            "_view_module": "@jupyter-widgets/controls",
            "_view_module_version": "1.5.0",
            "_view_name": "FloatSliderView",
            "continuous_update": true,
            "description": "Comprimento λ (nm)",
            "description_tooltip": null,
            "disabled": false,
            "layout": "IPY_MODEL_cc4eff1fd1f746bd865207336e5247d8",
            "max": 700,
            "min": 300,
            "orientation": "horizontal",
            "readout": true,
            "readout_format": ".2f",
            "step": 10,
            "style": "IPY_MODEL_e175e72a73344849ad15cd9561387250",
            "value": 400
          }
        },
        "f4fb48cfd4844b5199491728e07f1a5b": {
          "model_module": "@jupyter-widgets/base",
          "model_name": "LayoutModel",
          "model_module_version": "1.2.0",
          "state": {
            "_model_module": "@jupyter-widgets/base",
            "_model_module_version": "1.2.0",
            "_model_name": "LayoutModel",
            "_view_count": null,
            "_view_module": "@jupyter-widgets/base",
            "_view_module_version": "1.2.0",
            "_view_name": "LayoutView",
            "align_content": null,
            "align_items": null,
            "align_self": null,
            "border": null,
            "bottom": null,
            "display": null,
            "flex": null,
            "flex_flow": null,
            "grid_area": null,
            "grid_auto_columns": null,
            "grid_auto_flow": null,
            "grid_auto_rows": null,
            "grid_column": null,
            "grid_gap": null,
            "grid_row": null,
            "grid_template_areas": null,
            "grid_template_columns": null,
            "grid_template_rows": null,
            "height": null,
            "justify_content": null,
            "justify_items": null,
            "left": null,
            "margin": null,
            "max_height": null,
            "max_width": null,
            "min_height": null,
            "min_width": null,
            "object_fit": null,
            "object_position": null,
            "order": null,
            "overflow": null,
            "overflow_x": null,
            "overflow_y": null,
            "padding": null,
            "right": null,
            "top": null,
            "visibility": null,
            "width": null
          }
        },
        "72fc5372083a4d1da0d53cb4cc29163d": {
          "model_module": "@jupyter-widgets/controls",
          "model_name": "FloatSliderModel",
          "model_module_version": "1.5.0",
          "state": {
            "_dom_classes": [],
            "_model_module": "@jupyter-widgets/controls",
            "_model_module_version": "1.5.0",
            "_model_name": "FloatSliderModel",
            "_view_count": null,
            "_view_module": "@jupyter-widgets/controls",
            "_view_module_version": "1.5.0",
            "_view_name": "FloatSliderView",
            "continuous_update": true,
            "description": "X Mínimo",
            "description_tooltip": null,
            "disabled": false,
            "layout": "IPY_MODEL_b4231de758174124a2772fcd8d4d7cd4",
            "max": 0,
            "min": -20,
            "orientation": "horizontal",
            "readout": true,
            "readout_format": ".2f",
            "step": 1,
            "style": "IPY_MODEL_6c906461b0b846adbb48b989ecf853ca",
            "value": -10
          }
        },
        "b130768845f847c6ba6057e2a9de02b1": {
          "model_module": "@jupyter-widgets/controls",
          "model_name": "FloatSliderModel",
          "model_module_version": "1.5.0",
          "state": {
            "_dom_classes": [],
            "_model_module": "@jupyter-widgets/controls",
            "_model_module_version": "1.5.0",
            "_model_name": "FloatSliderModel",
            "_view_count": null,
            "_view_module": "@jupyter-widgets/controls",
            "_view_module_version": "1.5.0",
            "_view_name": "FloatSliderView",
            "continuous_update": true,
            "description": "X Máximo",
            "description_tooltip": null,
            "disabled": false,
            "layout": "IPY_MODEL_98c0b07c2d96475cb8cb3da7dc9c878e",
            "max": 20,
            "min": 0,
            "orientation": "horizontal",
            "readout": true,
            "readout_format": ".2f",
            "step": 1,
            "style": "IPY_MODEL_1ef98fa9da194c2e85bc26dd00759528",
            "value": 10
          }
        },
        "24a9b7eca0184f409a8b0ed182360372": {
          "model_module": "@jupyter-widgets/base",
          "model_name": "LayoutModel",
          "model_module_version": "1.2.0",
          "state": {
            "_model_module": "@jupyter-widgets/base",
            "_model_module_version": "1.2.0",
            "_model_name": "LayoutModel",
            "_view_count": null,
            "_view_module": "@jupyter-widgets/base",
            "_view_module_version": "1.2.0",
            "_view_name": "LayoutView",
            "align_content": null,
            "align_items": null,
            "align_self": null,
            "border": null,
            "bottom": null,
            "display": null,
            "flex": null,
            "flex_flow": null,
            "grid_area": null,
            "grid_auto_columns": null,
            "grid_auto_flow": null,
            "grid_auto_rows": null,
            "grid_column": null,
            "grid_gap": null,
            "grid_row": null,
            "grid_template_areas": null,
            "grid_template_columns": null,
            "grid_template_rows": null,
            "height": null,
            "justify_content": null,
            "justify_items": null,
            "left": null,
            "margin": null,
            "max_height": null,
            "max_width": null,
            "min_height": null,
            "min_width": null,
            "object_fit": null,
            "object_position": null,
            "order": null,
            "overflow": null,
            "overflow_x": null,
            "overflow_y": null,
            "padding": null,
            "right": null,
            "top": null,
            "visibility": null,
            "width": null
          }
        },
        "d2d89098f0b1492989dec155bc93059a": {
          "model_module": "@jupyter-widgets/base",
          "model_name": "LayoutModel",
          "model_module_version": "1.2.0",
          "state": {
            "_model_module": "@jupyter-widgets/base",
            "_model_module_version": "1.2.0",
            "_model_name": "LayoutModel",
            "_view_count": null,
            "_view_module": "@jupyter-widgets/base",
            "_view_module_version": "1.2.0",
            "_view_name": "LayoutView",
            "align_content": null,
            "align_items": null,
            "align_self": null,
            "border": null,
            "bottom": null,
            "display": null,
            "flex": null,
            "flex_flow": null,
            "grid_area": null,
            "grid_auto_columns": null,
            "grid_auto_flow": null,
            "grid_auto_rows": null,
            "grid_column": null,
            "grid_gap": null,
            "grid_row": null,
            "grid_template_areas": null,
            "grid_template_columns": null,
            "grid_template_rows": null,
            "height": null,
            "justify_content": null,
            "justify_items": null,
            "left": null,
            "margin": null,
            "max_height": null,
            "max_width": null,
            "min_height": null,
            "min_width": null,
            "object_fit": null,
            "object_position": null,
            "order": null,
            "overflow": null,
            "overflow_x": null,
            "overflow_y": null,
            "padding": null,
            "right": null,
            "top": null,
            "visibility": null,
            "width": null
          }
        },
        "00654199231b43e19a68863aa1d21a7b": {
          "model_module": "@jupyter-widgets/controls",
          "model_name": "SliderStyleModel",
          "model_module_version": "1.5.0",
          "state": {
            "_model_module": "@jupyter-widgets/controls",
            "_model_module_version": "1.5.0",
            "_model_name": "SliderStyleModel",
            "_view_count": null,
            "_view_module": "@jupyter-widgets/base",
            "_view_module_version": "1.2.0",
            "_view_name": "StyleView",
            "description_width": "",
            "handle_color": null
          }
        },
        "6085cd40be5a41188b0b3a49ce64a2c8": {
          "model_module": "@jupyter-widgets/base",
          "model_name": "LayoutModel",
          "model_module_version": "1.2.0",
          "state": {
            "_model_module": "@jupyter-widgets/base",
            "_model_module_version": "1.2.0",
            "_model_name": "LayoutModel",
            "_view_count": null,
            "_view_module": "@jupyter-widgets/base",
            "_view_module_version": "1.2.0",
            "_view_name": "LayoutView",
            "align_content": null,
            "align_items": null,
            "align_self": null,
            "border": null,
            "bottom": null,
            "display": null,
            "flex": null,
            "flex_flow": null,
            "grid_area": null,
            "grid_auto_columns": null,
            "grid_auto_flow": null,
            "grid_auto_rows": null,
            "grid_column": null,
            "grid_gap": null,
            "grid_row": null,
            "grid_template_areas": null,
            "grid_template_columns": null,
            "grid_template_rows": null,
            "height": null,
            "justify_content": null,
            "justify_items": null,
            "left": null,
            "margin": null,
            "max_height": null,
            "max_width": null,
            "min_height": null,
            "min_width": null,
            "object_fit": null,
            "object_position": null,
            "order": null,
            "overflow": null,
            "overflow_x": null,
            "overflow_y": null,
            "padding": null,
            "right": null,
            "top": null,
            "visibility": null,
            "width": null
          }
        },
        "e99a15627db74f17a2499f17b29d19a9": {
          "model_module": "@jupyter-widgets/controls",
          "model_name": "SliderStyleModel",
          "model_module_version": "1.5.0",
          "state": {
            "_model_module": "@jupyter-widgets/controls",
            "_model_module_version": "1.5.0",
            "_model_name": "SliderStyleModel",
            "_view_count": null,
            "_view_module": "@jupyter-widgets/base",
            "_view_module_version": "1.2.0",
            "_view_name": "StyleView",
            "description_width": "",
            "handle_color": null
          }
        },
        "cc4eff1fd1f746bd865207336e5247d8": {
          "model_module": "@jupyter-widgets/base",
          "model_name": "LayoutModel",
          "model_module_version": "1.2.0",
          "state": {
            "_model_module": "@jupyter-widgets/base",
            "_model_module_version": "1.2.0",
            "_model_name": "LayoutModel",
            "_view_count": null,
            "_view_module": "@jupyter-widgets/base",
            "_view_module_version": "1.2.0",
            "_view_name": "LayoutView",
            "align_content": null,
            "align_items": null,
            "align_self": null,
            "border": null,
            "bottom": null,
            "display": null,
            "flex": null,
            "flex_flow": null,
            "grid_area": null,
            "grid_auto_columns": null,
            "grid_auto_flow": null,
            "grid_auto_rows": null,
            "grid_column": null,
            "grid_gap": null,
            "grid_row": null,
            "grid_template_areas": null,
            "grid_template_columns": null,
            "grid_template_rows": null,
            "height": null,
            "justify_content": null,
            "justify_items": null,
            "left": null,
            "margin": null,
            "max_height": null,
            "max_width": null,
            "min_height": null,
            "min_width": null,
            "object_fit": null,
            "object_position": null,
            "order": null,
            "overflow": null,
            "overflow_x": null,
            "overflow_y": null,
            "padding": null,
            "right": null,
            "top": null,
            "visibility": null,
            "width": null
          }
        },
        "e175e72a73344849ad15cd9561387250": {
          "model_module": "@jupyter-widgets/controls",
          "model_name": "SliderStyleModel",
          "model_module_version": "1.5.0",
          "state": {
            "_model_module": "@jupyter-widgets/controls",
            "_model_module_version": "1.5.0",
            "_model_name": "SliderStyleModel",
            "_view_count": null,
            "_view_module": "@jupyter-widgets/base",
            "_view_module_version": "1.2.0",
            "_view_name": "StyleView",
            "description_width": "",
            "handle_color": null
          }
        },
        "b4231de758174124a2772fcd8d4d7cd4": {
          "model_module": "@jupyter-widgets/base",
          "model_name": "LayoutModel",
          "model_module_version": "1.2.0",
          "state": {
            "_model_module": "@jupyter-widgets/base",
            "_model_module_version": "1.2.0",
            "_model_name": "LayoutModel",
            "_view_count": null,
            "_view_module": "@jupyter-widgets/base",
            "_view_module_version": "1.2.0",
            "_view_name": "LayoutView",
            "align_content": null,
            "align_items": null,
            "align_self": null,
            "border": null,
            "bottom": null,
            "display": null,
            "flex": null,
            "flex_flow": null,
            "grid_area": null,
            "grid_auto_columns": null,
            "grid_auto_flow": null,
            "grid_auto_rows": null,
            "grid_column": null,
            "grid_gap": null,
            "grid_row": null,
            "grid_template_areas": null,
            "grid_template_columns": null,
            "grid_template_rows": null,
            "height": null,
            "justify_content": null,
            "justify_items": null,
            "left": null,
            "margin": null,
            "max_height": null,
            "max_width": null,
            "min_height": null,
            "min_width": null,
            "object_fit": null,
            "object_position": null,
            "order": null,
            "overflow": null,
            "overflow_x": null,
            "overflow_y": null,
            "padding": null,
            "right": null,
            "top": null,
            "visibility": null,
            "width": null
          }
        },
        "6c906461b0b846adbb48b989ecf853ca": {
          "model_module": "@jupyter-widgets/controls",
          "model_name": "SliderStyleModel",
          "model_module_version": "1.5.0",
          "state": {
            "_model_module": "@jupyter-widgets/controls",
            "_model_module_version": "1.5.0",
            "_model_name": "SliderStyleModel",
            "_view_count": null,
            "_view_module": "@jupyter-widgets/base",
            "_view_module_version": "1.2.0",
            "_view_name": "StyleView",
            "description_width": "",
            "handle_color": null
          }
        },
        "98c0b07c2d96475cb8cb3da7dc9c878e": {
          "model_module": "@jupyter-widgets/base",
          "model_name": "LayoutModel",
          "model_module_version": "1.2.0",
          "state": {
            "_model_module": "@jupyter-widgets/base",
            "_model_module_version": "1.2.0",
            "_model_name": "LayoutModel",
            "_view_count": null,
            "_view_module": "@jupyter-widgets/base",
            "_view_module_version": "1.2.0",
            "_view_name": "LayoutView",
            "align_content": null,
            "align_items": null,
            "align_self": null,
            "border": null,
            "bottom": null,
            "display": null,
            "flex": null,
            "flex_flow": null,
            "grid_area": null,
            "grid_auto_columns": null,
            "grid_auto_flow": null,
            "grid_auto_rows": null,
            "grid_column": null,
            "grid_gap": null,
            "grid_row": null,
            "grid_template_areas": null,
            "grid_template_columns": null,
            "grid_template_rows": null,
            "height": null,
            "justify_content": null,
            "justify_items": null,
            "left": null,
            "margin": null,
            "max_height": null,
            "max_width": null,
            "min_height": null,
            "min_width": null,
            "object_fit": null,
            "object_position": null,
            "order": null,
            "overflow": null,
            "overflow_x": null,
            "overflow_y": null,
            "padding": null,
            "right": null,
            "top": null,
            "visibility": null,
            "width": null
          }
        },
        "1ef98fa9da194c2e85bc26dd00759528": {
          "model_module": "@jupyter-widgets/controls",
          "model_name": "SliderStyleModel",
          "model_module_version": "1.5.0",
          "state": {
            "_model_module": "@jupyter-widgets/controls",
            "_model_module_version": "1.5.0",
            "_model_name": "SliderStyleModel",
            "_view_count": null,
            "_view_module": "@jupyter-widgets/base",
            "_view_module_version": "1.2.0",
            "_view_name": "StyleView",
            "description_width": "",
            "handle_color": null
          }
        },
        "ef0ce8e0cc464e0598aacac1f2b45d9d": {
          "model_module": "@jupyter-widgets/output",
          "model_name": "OutputModel",
          "model_module_version": "1.0.0",
          "state": {
            "_dom_classes": [],
            "_model_module": "@jupyter-widgets/output",
            "_model_module_version": "1.0.0",
            "_model_name": "OutputModel",
            "_view_count": null,
            "_view_module": "@jupyter-widgets/output",
            "_view_module_version": "1.0.0",
            "_view_name": "OutputView",
            "layout": "IPY_MODEL_0ae7a6a5d3164267a7009004c0ce0fcb",
            "msg_id": "",
            "outputs": [
              {
                "output_type": "display_data",
                "data": {
                  "text/plain": "<Figure size 1000x600 with 1 Axes>",
                  "image/png": "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\n"
                },
                "metadata": {}
              }
            ]
          }
        },
        "0ae7a6a5d3164267a7009004c0ce0fcb": {
          "model_module": "@jupyter-widgets/base",
          "model_name": "LayoutModel",
          "model_module_version": "1.2.0",
          "state": {
            "_model_module": "@jupyter-widgets/base",
            "_model_module_version": "1.2.0",
            "_model_name": "LayoutModel",
            "_view_count": null,
            "_view_module": "@jupyter-widgets/base",
            "_view_module_version": "1.2.0",
            "_view_name": "LayoutView",
            "align_content": null,
            "align_items": null,
            "align_self": null,
            "border": null,
            "bottom": null,
            "display": null,
            "flex": null,
            "flex_flow": null,
            "grid_area": null,
            "grid_auto_columns": null,
            "grid_auto_flow": null,
            "grid_auto_rows": null,
            "grid_column": null,
            "grid_gap": null,
            "grid_row": null,
            "grid_template_areas": null,
            "grid_template_columns": null,
            "grid_template_rows": null,
            "height": null,
            "justify_content": null,
            "justify_items": null,
            "left": null,
            "margin": null,
            "max_height": null,
            "max_width": null,
            "min_height": null,
            "min_width": null,
            "object_fit": null,
            "object_position": null,
            "order": null,
            "overflow": null,
            "overflow_x": null,
            "overflow_y": null,
            "padding": null,
            "right": null,
            "top": null,
            "visibility": null,
            "width": null
          }
        }
      }
    }
  },
  "cells": [
    {
      "cell_type": "markdown",
      "metadata": {
        "id": "view-in-github",
        "colab_type": "text"
      },
      "source": [
        "<a href=\"https://colab.research.google.com/github/EdivanS96/Back-End-Python/blob/main/BackEnd_Python.ipynb\" target=\"_parent\"><img src=\"https://colab.research.google.com/assets/colab-badge.svg\" alt=\"Open In Colab\"/></a>"
      ]
    },
    {
      "cell_type": "code",
      "execution_count": null,
      "metadata": {
        "colab": {
          "base_uri": "https://localhost:8080/"
        },
        "id": "6DgR6dfDuwRV",
        "outputId": "ecd98f7a-1d38-486c-bd99-23274c6a7aeb"
      },
      "outputs": [
        {
          "output_type": "stream",
          "name": "stdout",
          "text": [
            "Olá Mundo\n",
            "8\n",
            "45\n",
            "1.54\n",
            "Irineu\n",
            "True\n",
            "<class 'int'>\n",
            "<class 'float'>\n",
            "<class 'str'>\n",
            "<class 'bool'>\n"
          ]
        }
      ],
      "source": [
        "print(\"Olá Mundo\")\n",
        "print(5+3)\n",
        "\n",
        "#Definindo VAR:idade = 30 #intaltura = 1.54 #floatnome = \"Maria\" # srtmaior_de_idade = True # bool\n",
        "print(idade)\n",
        "print(altura)\n",
        "print(nome)\n",
        "print(maior_de_idade)\n",
        "\n",
        "print(type(idade))\n",
        "print(type(altura))\n",
        "print(type(nome))\n",
        "print(type(maior_de_idade))"
      ]
    },
    {
      "cell_type": "code",
      "source": [
        "#EXERCICIO 1:\n",
        "nome = input(\"Digite seu nome: \")\n",
        "idade = int(input(\"Digite sua Idade: \"))\n",
        "print(nome,\"tem\",idade,\"anos\")\n"
      ],
      "metadata": {
        "colab": {
          "base_uri": "https://localhost:8080/"
        },
        "id": "Dzf9zpPR2gAi",
        "outputId": "7b9a6efb-3b1a-45e4-96d8-bc1bbaa3b4c7"
      },
      "execution_count": null,
      "outputs": [
        {
          "output_type": "stream",
          "name": "stdout",
          "text": [
            "Digite seu nome: João\n",
            "Digite sua Idade: 15\n",
            "João tem 15 anos\n"
          ]
        }
      ]
    },
    {
      "cell_type": "code",
      "source": [
        "#EXERCICIO 2:\n",
        "\n",
        "def somar(numero1,numero2):\n",
        "    return numero1 + numero2;\n",
        "\n",
        "print(\"Calculadora basica\")\n",
        "\n",
        "numero1 = float(input(\"Informe o primeiro número:\"))\n",
        "numero2 = float(input(\"Informe o segundo número:\"))\n",
        "\n",
        "print(\"RESULTADO:\", somar(numero1,numero2))"
      ],
      "metadata": {
        "colab": {
          "base_uri": "https://localhost:8080/"
        },
        "id": "fDk28_dK5uNp",
        "outputId": "7871f780-5455-4c38-e3b1-be86e89c0ba7"
      },
      "execution_count": null,
      "outputs": [
        {
          "output_type": "stream",
          "name": "stdout",
          "text": [
            "Calculadora basica\n",
            "Informe o primeiro número:5\n",
            "Informe o segundo número:4\n",
            "RESULTADO: 9.0\n"
          ]
        }
      ]
    },
    {
      "cell_type": "code",
      "source": [
        "#EXERCICIO 3:\n",
        "\n",
        "def somar(numero1, numero2):\n",
        "  return numero1 + numero2;\n",
        "\n",
        "def subtrair(numero1, numero2):\n",
        "  return numero1 - numero2;\n",
        "\n",
        "def multiplicar(numero1, numero2):\n",
        "  return numero1 * numero2;\n",
        "\n",
        "def dividir(numero1, numero2):\n",
        "  if numero2 == 0:\n",
        "    return \"Erro\"\n",
        "  return numero1 / numero2;\n",
        "\n",
        "\n",
        "print(\"Escolha uma operação:\")\n",
        "print(\"1 para Somar\")\n",
        "print(\"2 para Subtrair\")\n",
        "print(\"3 para Multiplicar\")\n",
        "print(\"4 para Dividir\")\n",
        "\n",
        "ope = int(input(\"Digite o número da operação:\"))\n",
        "\n",
        "numero1=float(input(\"Informe o primeiro número:\"))\n",
        "numero2=float(input(\"Informe o segundo número:\"))\n",
        "\n",
        "resultado = ope\n",
        "if ope == 1:\n",
        "  resultado = somar(numero1, numero2)\n",
        "elif ope == 2:\n",
        "  resultado = subtrair(numero1, numero2)\n",
        "elif ope == 3:\n",
        "  resultado = multiplicar(numero1, numero2)\n",
        "elif ope == 4:\n",
        "  resultado = dividir(numero1, numero2)\n",
        "else:\n",
        "  resultado = \"Erro divisão por ZERO\";\n",
        "\n",
        "\n",
        "print(\"RESULTADO:\", resultado)\n",
        "\n",
        "\n",
        "\n"
      ],
      "metadata": {
        "colab": {
          "base_uri": "https://localhost:8080/"
        },
        "id": "Nt5YkylP7y6p",
        "outputId": "853f512e-9a8a-457e-8992-49adc99e9411"
      },
      "execution_count": null,
      "outputs": [
        {
          "output_type": "stream",
          "name": "stdout",
          "text": [
            "Escolha uma operação:\n",
            "1 para Somar\n",
            "2 para Subtrair\n",
            "3 para Multiplicar\n",
            "4 para Dividir\n",
            "Digite o número da operação:4\n",
            "Informe o primeiro número:5\n",
            "Informe o segundo número:2\n",
            "RESULTADO: 2.5\n"
          ]
        }
      ]
    },
    {
      "cell_type": "code",
      "source": [
        "# AULA 4 - Crianção de laços e repetições\n",
        "\n",
        "#RANGE:\n",
        "\n",
        "#função range: , range(fim),range(inico,fim), range(inicio,fim,pulando)\n",
        "for i in range(2,10,2):\n",
        "  print(\"i\",i)\n",
        "\n",
        "nome = \"João\"\n",
        "idade = 45\n",
        "\n",
        "print(f\"Nome: {nome} e Idade: {idade}\")"
      ],
      "metadata": {
        "colab": {
          "base_uri": "https://localhost:8080/"
        },
        "id": "Je4K8ZJFFCfd",
        "outputId": "1571f009-727f-41f6-dd80-2ea480216385"
      },
      "execution_count": null,
      "outputs": [
        {
          "output_type": "stream",
          "name": "stdout",
          "text": [
            "i 2\n",
            "i 4\n",
            "i 6\n",
            "i 8\n",
            "Nome: João e Idade: 45\n"
          ]
        }
      ]
    },
    {
      "cell_type": "code",
      "source": [
        "#TAREFA DE CASA (Calculadora Média)\n",
        "\n",
        "nota1 = float(input(\"Digite a nota 1:\"))\n",
        "nota2 = float(input(\"Digite a nota 2:\"))\n",
        "nota3 = float(input(\"Digite a nota 3:\"))\n",
        "\n",
        "media = (nota1 + nota2 + nota3)/3\n",
        "\n",
        "print(\"Média Final:\", media)\n",
        "\n",
        "if media < 7:\n",
        "  print(\"Aluno Reprovado\")\n",
        "else: print(\"Aluno Aprovado\")"
      ],
      "metadata": {
        "id": "-x12gdzEMur-",
        "colab": {
          "base_uri": "https://localhost:8080/"
        },
        "outputId": "3c437350-d385-4647-ec72-2ca301c7cc9e"
      },
      "execution_count": null,
      "outputs": [
        {
          "output_type": "stream",
          "name": "stdout",
          "text": [
            "Digite a nota 1:10\n",
            "Digite a nota 2:10\n",
            "Digite a nota 3:7\n",
            "Média Final: 9.0\n",
            "Aluno Aprovado\n"
          ]
        }
      ]
    },
    {
      "cell_type": "code",
      "source": [],
      "metadata": {
        "colab": {
          "base_uri": "https://localhost:8080/",
          "height": 631,
          "referenced_widgets": [
            "0742671403f147049649dcb8c9b1e01d",
            "439f867dec17458787c722c801d20042",
            "e60b579b57204d709c8cd388a72cc5fd",
            "d40c77d2e95648ecaec2651a26d771fd",
            "eb76f7f0b27f49cc83fc7b02c74946c6",
            "b7ca295057f747d188045889ea180b25",
            "87239b7366494112a0f5026cc57283fd",
            "f4fb48cfd4844b5199491728e07f1a5b",
            "72fc5372083a4d1da0d53cb4cc29163d",
            "b130768845f847c6ba6057e2a9de02b1",
            "24a9b7eca0184f409a8b0ed182360372",
            "d2d89098f0b1492989dec155bc93059a",
            "00654199231b43e19a68863aa1d21a7b",
            "6085cd40be5a41188b0b3a49ce64a2c8",
            "e99a15627db74f17a2499f17b29d19a9",
            "cc4eff1fd1f746bd865207336e5247d8",
            "e175e72a73344849ad15cd9561387250",
            "b4231de758174124a2772fcd8d4d7cd4",
            "6c906461b0b846adbb48b989ecf853ca",
            "98c0b07c2d96475cb8cb3da7dc9c878e",
            "1ef98fa9da194c2e85bc26dd00759528",
            "ef0ce8e0cc464e0598aacac1f2b45d9d",
            "0ae7a6a5d3164267a7009004c0ce0fcb"
          ]
        },
        "id": "NY2aVou175dx",
        "outputId": "a0e773a3-5a2e-4da2-e37e-67a0a95022c4"
      },
      "execution_count": 1,
      "outputs": [
        {
          "output_type": "display_data",
          "data": {
            "text/plain": [
              "VBox(children=(HBox(children=(FloatSlider(value=0.01, description='Largura a (mm)', max=0.05, min=0.001, step=…"
            ],
            "application/vnd.jupyter.widget-view+json": {
              "version_major": 2,
              "version_minor": 0,
              "model_id": "0742671403f147049649dcb8c9b1e01d"
            }
          },
          "metadata": {}
        },
        {
          "output_type": "display_data",
          "data": {
            "text/plain": [
              "Output()"
            ],
            "application/vnd.jupyter.widget-view+json": {
              "version_major": 2,
              "version_minor": 0,
              "model_id": "ef0ce8e0cc464e0598aacac1f2b45d9d"
            }
          },
          "metadata": {}
        }
      ]
    }
  ]
}